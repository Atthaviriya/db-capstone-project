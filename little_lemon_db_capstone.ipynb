{
 "cells": [
  {
   "cell_type": "code",
   "execution_count": 1,
   "id": "b284457e",
   "metadata": {},
   "outputs": [],
   "source": [
    "# Import MySQL Connector/Python \n",
    "import mysql.connector as connector\n",
    "\n",
    "connection=connector.connect(user=\"root\",password=\"Alex1107\")"
   ]
  },
  {
   "cell_type": "code",
   "execution_count": 2,
   "id": "7670bb27",
   "metadata": {},
   "outputs": [],
   "source": [
    "cursor = connection.cursor()"
   ]
  },
  {
   "cell_type": "code",
   "execution_count": 3,
   "id": "0894c167",
   "metadata": {},
   "outputs": [],
   "source": [
    "cursor.execute(\"CREATE DATABASE little_lemon_db_capstone\") "
   ]
  },
  {
   "cell_type": "code",
   "execution_count": 4,
   "id": "53e35cb4",
   "metadata": {},
   "outputs": [],
   "source": [
    "cursor.execute(\"USE little_lemon_db_capstone\")"
   ]
  },
  {
   "cell_type": "code",
   "execution_count": 30,
   "id": "2a93aec1",
   "metadata": {},
   "outputs": [],
   "source": [
    "#Customer table\n",
    "create_customer_table = \"\"\"CREATE TABLE Customers (\n",
    "CustomerID INT AUTO_INCREMENT,\n",
    "FullName VARCHAR(100) NOT NULL,\n",
    "ContactNumber INT NOT NULL,\n",
    "Email VARCHAR(100) NOT NULL,\n",
    "PRIMARY KEY (CustomerID)\n",
    ");\"\"\""
   ]
  },
  {
   "cell_type": "code",
   "execution_count": 31,
   "id": "a0cf9a3e",
   "metadata": {},
   "outputs": [],
   "source": [
    "#MenuItems table\n",
    "create_menuitem_table = \"\"\"CREATE TABLE MenuItems (\n",
    "MenuItemID INT AUTO_INCREMENT,\n",
    "CourseName VARCHAR(200),\n",
    "StarterName VARCHAR(200),\n",
    "DessertName VARCHAR(100),\n",
    "PRIMARY KEY (MenuItemID)\n",
    ");\"\"\""
   ]
  },
  {
   "cell_type": "code",
   "execution_count": 32,
   "id": "70d92a17",
   "metadata": {},
   "outputs": [],
   "source": [
    "#Menus table\n",
    "create_menu_table = \"\"\"CREATE TABLE Menus (\n",
    "MenuID INT,\n",
    "MenuItemID INT,\n",
    "Cuisine VARCHAR(100),\n",
    "PRIMARY KEY (MenuID),\n",
    "FOREIGN KEY (MenuItemID) REFERENCES MenuItems(MenuItemID)\n",
    ");\"\"\""
   ]
  },
  {
   "cell_type": "code",
   "execution_count": 72,
   "id": "38a07e11",
   "metadata": {},
   "outputs": [],
   "source": [
    "#Orders table\n",
    "create_orders_table = \"\"\"CREATE TABLE Orders (\n",
    "OrderID INT,\n",
    "MenuID INT,\n",
    "CustomerID INT,\n",
    "TotalCost INT,\n",
    "Quantity INT,\n",
    "PRIMARY KEY (OrderID),\n",
    "FOREIGN KEY (MenuID) REFERENCES Menus(MenuID),\n",
    "FOREIGN KEY (CustomerID) REFERENCES Customers(CustomerID)\n",
    ");\"\"\""
   ]
  },
  {
   "cell_type": "code",
   "execution_count": 80,
   "id": "e9ab8c7e",
   "metadata": {},
   "outputs": [],
   "source": [
    "#Bookings table\n",
    "create_booking_table = \"\"\"CREATE TABLE Bookings (\n",
    "BookingID INT AUTO_INCREMENT,\n",
    "TableNo INT,\n",
    "BookingDate DATE NOT NULL,\n",
    "CustomerID INT,\n",
    "PRIMARY KEY (BookingID),\n",
    "FOREIGN KEY (CustomerID) REFERENCES Customers(CustomerID)\n",
    ");\"\"\""
   ]
  },
  {
   "cell_type": "code",
   "execution_count": 34,
   "id": "501edc5e",
   "metadata": {},
   "outputs": [],
   "source": [
    "# Create MenuItems table\n",
    "cursor.execute(create_menuitem_table)"
   ]
  },
  {
   "cell_type": "code",
   "execution_count": 35,
   "id": "8f5b3c34",
   "metadata": {},
   "outputs": [],
   "source": [
    "# Create Menu table\n",
    "cursor.execute(create_menu_table)"
   ]
  },
  {
   "cell_type": "code",
   "execution_count": 36,
   "id": "9b06f14f",
   "metadata": {},
   "outputs": [],
   "source": [
    "# Create Bookings table\n",
    "cursor.execute(create_customer_table)"
   ]
  },
  {
   "cell_type": "code",
   "execution_count": 37,
   "id": "a86a3161",
   "metadata": {},
   "outputs": [],
   "source": [
    "# Create Orders table\n",
    "cursor.execute(create_orders_table)"
   ]
  },
  {
   "cell_type": "code",
   "execution_count": 81,
   "id": "3c464514",
   "metadata": {},
   "outputs": [],
   "source": [
    "# Create Orders table\n",
    "cursor.execute(create_booking_table)"
   ]
  },
  {
   "cell_type": "code",
   "execution_count": 47,
   "id": "44277327",
   "metadata": {},
   "outputs": [],
   "source": [
    "#*******************************************************#\n",
    "# Insert query to populate \"MenuItems\" table:\n",
    "#*******************************************************#\n",
    "insert_menuitems=\"\"\"\n",
    "INSERT INTO MenuItems (CourseName, StarterName, DessertName)\n",
    "VALUES\n",
    "('OG', 'Olives','Greek yogurt'),\n",
    "('FI', 'Flatbread','Ice cream'),\n",
    "('MC', 'Minestrone', 'Cheesecake'),\n",
    "('SE','sandwich','egg tart'),\n",
    "('LP','lumpia','persimmon');\"\"\""
   ]
  },
  {
   "cell_type": "code",
   "execution_count": 53,
   "id": "fb5eb92e",
   "metadata": {},
   "outputs": [],
   "source": [
    "insert_menu=\"\"\"\n",
    "INSERT INTO Menus (MenuID,MenuItemID,Cuisine)\n",
    "VALUES\n",
    "(1, 1, 'Greek'),\n",
    "(2, 2, 'Greek'),\n",
    "(3, 3, 'Greek'),\n",
    "(4, 4, 'Greek'),\n",
    "(5, 5, 'Turkish');\"\"\""
   ]
  },
  {
   "cell_type": "code",
   "execution_count": 60,
   "id": "14bcc2c0",
   "metadata": {},
   "outputs": [],
   "source": [
    "#*******************************************************#\n",
    "# Insert query to populate \"Bookings\" table:\n",
    "#*******************************************************#\n",
    "insert_customers=\"\"\"\n",
    "INSERT INTO Customers (FullName, ContactNumber, Email)\n",
    "VALUES\n",
    "('Anna Iversen',384734983,'dfwefwf'),\n",
    "('Joakim versen', 343424, 'wefwefw'),\n",
    "('Vanessa McCarthy', 23234234, 'wefwef'),\n",
    "('Marcos Romero', 2343423, 'wefwefwef');\"\"\""
   ]
  },
  {
   "cell_type": "code",
   "execution_count": 84,
   "id": "e21cad27",
   "metadata": {},
   "outputs": [],
   "source": [
    "insert_orders=\"\"\"\n",
    "INSERT INTO Orders (OrderID, MenuID, CustomerID, TotalCost, Quantity)\n",
    "VALUES\n",
    "(1, 1, 1, 86, 2),\n",
    "(2, 2, 2, 37, 3),\n",
    "(3, 3, 3, 37, 5),\n",
    "(4, 4, 4, 40, 3);\"\"\""
   ]
  },
  {
   "cell_type": "code",
   "execution_count": 85,
   "id": "4cd87649",
   "metadata": {},
   "outputs": [],
   "source": [
    "insert_bookings=\"\"\"\n",
    "INSERT INTO Bookings (TableNo, BookingDate, CustomerID)\n",
    "VALUES\n",
    "(1,\"2022-10-10\",1),\n",
    "(2,\"2022-10-10\",2),\n",
    "(1,\"2022-10-10\",3),\n",
    "(2,\"2022-10-10\",4);\n",
    "\"\"\""
   ]
  },
  {
   "cell_type": "code",
   "execution_count": 51,
   "id": "a40f9a57",
   "metadata": {},
   "outputs": [],
   "source": [
    "# Populate MenuItems table\n",
    "cursor.execute(insert_menuitems)\n",
    "connection.commit()"
   ]
  },
  {
   "cell_type": "code",
   "execution_count": 54,
   "id": "f5e19070",
   "metadata": {},
   "outputs": [],
   "source": [
    "# Populate MenuItems table\n",
    "cursor.execute(insert_menu)\n",
    "connection.commit()"
   ]
  },
  {
   "cell_type": "code",
   "execution_count": 61,
   "id": "9a0baf4b",
   "metadata": {},
   "outputs": [],
   "source": [
    "# Populate Bookings table\n",
    "cursor.execute(insert_customers)\n",
    "connection.commit()"
   ]
  },
  {
   "cell_type": "code",
   "execution_count": 68,
   "id": "01d5742f",
   "metadata": {},
   "outputs": [],
   "source": [
    "# Populate Orders table\n",
    "cursor.execute(insert_orders)\n",
    "connection.commit()\n",
    "\n"
   ]
  },
  {
   "cell_type": "code",
   "execution_count": 86,
   "id": "1098cc78",
   "metadata": {},
   "outputs": [],
   "source": [
    "# Populate Orders table\n",
    "cursor.execute(insert_bookings)\n",
    "connection.commit()\n",
    "\n"
   ]
  },
  {
   "cell_type": "code",
   "execution_count": 91,
   "id": "40ca92c1",
   "metadata": {},
   "outputs": [],
   "source": [
    "#Get Max Quantity Procedure\n",
    "stored_procedure_GetMaxQuantity_query=\"\"\"\n",
    "CREATE PROCEDURE  GetMaxQuantity()\n",
    "BEGIN\n",
    "    SELECT MAX(orders.Quantity)\n",
    "    FROM Orders;\n",
    "END\n",
    "\"\"\"\n",
    "cursor.execute(stored_procedure_GetMaxQuantity_query)\n",
    "\n"
   ]
  },
  {
   "cell_type": "code",
   "execution_count": 92,
   "id": "8a519ac9",
   "metadata": {},
   "outputs": [],
   "source": [
    "#Add Booking Procedure\n",
    "stored_procedure_AddBooking_query=\"\"\"\n",
    "CREATE PROCEDURE AddBooking (IN BookingID INT, IN TableNumber INT, IN BookingDate DATE, IN CustomerID INT)\n",
    "BEGIN\n",
    "INSERT INTO Bookings (BookingID, TableNo, BookingDate, CustomerID) VALUES (BookingID, TableNo, BookingDate, CustomerID); \n",
    "END\n",
    "\"\"\"\n",
    "cursor.execute(stored_procedure_AddBooking_query)\n"
   ]
  },
  {
   "cell_type": "code",
   "execution_count": 94,
   "id": "2d85a704",
   "metadata": {},
   "outputs": [],
   "source": [
    "#Update Booking Procedure\n",
    "stored_procedure_UpdateBooking_query=\"\"\"\n",
    "CREATE PROCEDURE UpdateBooking (IN Booking_ID INT, IN Booking_Date DATE)\n",
    "BEGIN\n",
    "UPDATE Bookings SET BookingDate = Booking_Date WHERE BookingID = Booking_ID; \n",
    "END\n",
    "\"\"\"\n",
    "cursor.execute(stored_procedure_UpdateBooking_query)"
   ]
  },
  {
   "cell_type": "code",
   "execution_count": 95,
   "id": "ac6f111a",
   "metadata": {},
   "outputs": [],
   "source": [
    "#Cancel Booking Procedure\n",
    "stored_procedure_CancelBooking_query=\"\"\"\n",
    "CREATE DEFINER=`root`@`localhost` PROCEDURE `CancelBooking`(IN Booking_ID INT)\n",
    "BEGIN\n",
    "DELETE FROM Bookings WHERE BookingID = Booking_ID;\n",
    "END\n",
    "\"\"\"\n",
    "cursor.execute(stored_procedure_CancelBooking_query)"
   ]
  },
  {
   "cell_type": "code",
   "execution_count": null,
   "id": "1c2a01f9",
   "metadata": {},
   "outputs": [],
   "source": []
  }
 ],
 "metadata": {
  "kernelspec": {
   "display_name": "Python 3",
   "language": "python",
   "name": "python3"
  },
  "language_info": {
   "codemirror_mode": {
    "name": "ipython",
    "version": 3
   },
   "file_extension": ".py",
   "mimetype": "text/x-python",
   "name": "python",
   "nbconvert_exporter": "python",
   "pygments_lexer": "ipython3",
   "version": "3.8.8"
  }
 },
 "nbformat": 4,
 "nbformat_minor": 5
}
